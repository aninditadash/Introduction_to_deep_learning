{
 "cells": [
  {
   "cell_type": "markdown",
   "metadata": {
    "id": "K2arIzBldvIH"
   },
   "source": [
    "# __Working on Forward Propagation__\n",
    "In the context of neural networks, forward propagation refers to the process of passing input data through the network's layers one by one to compute the corresponding output. During forward propagation, each layer performs a series of mathematical operations, such as matrix multiplications and activation functions, to transform the input and generate an output. This process allows the network to make predictions or perform computations based on the given input data.\n",
    "\n",
    "Let us understand how forward propagation works."
   ]
  },
  {
   "cell_type": "markdown",
   "metadata": {
    "id": "U-ZYLRM2o4LP"
   },
   "source": [
    "## Steps to be followed:\n",
    "1. Import the required libraries\n",
    "2. Initialize the data and predicting the output\n",
    "3. Calculate the errors\n",
    "4. Calculate the sum of squared error\n",
    "\n",
    "\n",
    "\n"
   ]
  },
  {
   "cell_type": "markdown",
   "metadata": {
    "id": "Xx8UOmDJeIQt"
   },
   "source": [
    "### Step 1: Import the required libraries\n",
    "- Import NumPy package.\n",
    "- Import the Python package matplotlib, which sets the padding between and around the subplots as well as the figure size."
   ]
  },
  {
   "cell_type": "code",
   "execution_count": 1,
   "metadata": {
    "id": "f3DtGsv3eu73"
   },
   "outputs": [],
   "source": [
    "# Import the required libraries\n",
    "import numpy as np\n",
    "import matplotlib.pyplot as plt"
   ]
  },
  {
   "cell_type": "markdown",
   "metadata": {
    "id": "udPXXLbzex5r"
   },
   "source": [
    "### Step 2: Initialize the data and predict the output\n",
    "- Initializing the data:\n",
    "  - Generate an array **x** with 11 random elements.\n",
    "  - Generate weights with 11 random elements.\n",
    "- Predicting the output:\n",
    "\n",
    "  - Predict the `y_pred` using the activation function.\n",
    "  - Print the predicted values `y_pred`.\n"
   ]
  },
  {
   "cell_type": "code",
   "execution_count": 3,
   "metadata": {
    "id": "YHCoOorEXA7E"
   },
   "outputs": [],
   "source": [
    "# Initialize the data and network parameters\n",
    "x = np.random.rand(11)  # Random input data\n",
    "weights = np.random.rand(11)  # Random weights\n",
    "bias = np.random.rand(1)  # Random bias"
   ]
  },
  {
   "cell_type": "code",
   "execution_count": 4,
   "metadata": {
    "id": "Za6kjRknSKyu"
   },
   "outputs": [],
   "source": [
    "# Define the activation function (ReLU)\n",
    "def relu(z):\n",
    "    return np.maximum(0, z)"
   ]
  },
  {
   "cell_type": "code",
   "execution_count": 5,
   "metadata": {
    "colab": {
     "base_uri": "https://localhost:8080/"
    },
    "id": "Sr2TXJpVSPl1",
    "outputId": "1a45b225-ae15-4140-ea18-6e63a8d65d6f"
   },
   "outputs": [
    {
     "name": "stdout",
     "output_type": "stream",
     "text": [
      "Predicted values (y_pred): [3.43376176]\n"
     ]
    }
   ],
   "source": [
    "# Perform forward propagation\n",
    "z = np.dot(weights, x) + bias  # Linear transformation\n",
    "y_pred = relu(z)  # Applying activation function\n",
    "print(\"Predicted values (y_pred):\", y_pred)"
   ]
  },
  {
   "cell_type": "markdown",
   "metadata": {
    "id": "sV1Fl8egTPIN"
   },
   "source": [
    "In forward propagation, the input x is linearly transformed by multiplying it with the network's weights and adding the bias `(z = np.dot(weights, x) + bias)`. The resulting value z is then passed through an activation function, such as ReLU `(y_pred = relu(z))`, to introduce non-linearity into the model. The final output, y_pred, is the predicted value after these transformations and activation."
   ]
  },
  {
   "cell_type": "markdown",
   "metadata": {
    "id": "hahg48_GfjcX"
   },
   "source": [
    "### Step 3: Calculate the errors\n",
    "- Set the target value **y** to 1.\n",
    "- Calculate the absolute difference between the predicted values **y_pred** and the target value **y** to obtain the error. Print the error array and compute the sum of errors using the **sum()** function.\n"
   ]
  },
  {
   "cell_type": "code",
   "execution_count": 6,
   "metadata": {
    "colab": {
     "base_uri": "https://localhost:8080/"
    },
    "id": "__lrIiqIZrd3",
    "outputId": "c43f6e47-b232-4610-cfde-e30f5ff5f586"
   },
   "outputs": [
    {
     "name": "stdout",
     "output_type": "stream",
     "text": [
      "Errors: [2.43376176]\n",
      "Sum of errors: 2.433761764410095\n"
     ]
    }
   ],
   "source": [
    "# Calculate the errors\n",
    "y = 1  # Target value\n",
    "error = abs(y_pred - y)\n",
    "print(\"Errors:\", error)\n",
    "total_error = error.sum()\n",
    "print(\"Sum of errors:\", total_error)"
   ]
  },
  {
   "cell_type": "markdown",
   "metadata": {
    "id": "olhpgcXxf23F"
   },
   "source": [
    "**Observation**\n",
    "- The output represents the array of absolute differences between the predicted values **y_pred** and the target value **y** for each element in the array. The values in the array indicate the absolute errors for each corresponding element.\n",
    "\n",
    "- The sum of the errors, which is 2.89, represents the total accumulated error when summing up all the individual absolute differences between the predicted and target values."
   ]
  },
  {
   "cell_type": "markdown",
   "metadata": {
    "id": "z_rrHoWdgoY3"
   },
   "source": [
    "### Step 4: Calculate the sum of squared error\n",
    "- Calculate the sum of squared errors (SSE) by squaring the absolute differences between the predicted values **y_pred** and the target value **y** for each element in the array.\n",
    "\n",
    "The output **SSE** is an array that contains the squared errors for each corresponding element.\n",
    "\n",
    "The sum of the squared errors, obtained by calling **SSE.sum()**, represents the total accumulated squared error when summing up all the individual squared differences between the predicted and target values.\n"
   ]
  },
  {
   "cell_type": "code",
   "execution_count": 7,
   "metadata": {
    "colab": {
     "base_uri": "https://localhost:8080/"
    },
    "id": "wyn0th2Ua8rI",
    "outputId": "e4aa9566-af33-4183-f243-c7f15167f7e0"
   },
   "outputs": [
    {
     "name": "stdout",
     "output_type": "stream",
     "text": [
      "Squared errors (SSE): [5.92319633]\n",
      "Sum of squared errors (SSE): 5.923196325904538\n"
     ]
    }
   ],
   "source": [
    "# Calculate the sum of squared error\n",
    "SSE = (y_pred - y)**2\n",
    "print(\"Squared errors (SSE):\", SSE)\n",
    "total_SSE = SSE.sum()\n",
    "print(\"Sum of squared errors (SSE):\", total_SSE)"
   ]
  },
  {
   "cell_type": "markdown",
   "metadata": {
    "id": "jhv5TzHFg53M"
   },
   "source": [
    "**Observation**\n",
    "- The output represents the sum of squared errors (SSE) calculated from the squared differences between the predicted values and the target value for each element in the array."
   ]
  },
  {
   "cell_type": "code",
   "execution_count": null,
   "metadata": {
    "id": "lDzyVWd6wEzY"
   },
   "outputs": [],
   "source": []
  }
 ],
 "metadata": {
  "colab": {
   "provenance": []
  },
  "kernelspec": {
   "display_name": "Python 3 (ipykernel)",
   "language": "python",
   "name": "python3"
  },
  "language_info": {
   "codemirror_mode": {
    "name": "ipython",
    "version": 3
   },
   "file_extension": ".py",
   "mimetype": "text/x-python",
   "name": "python",
   "nbconvert_exporter": "python",
   "pygments_lexer": "ipython3",
   "version": "3.12.7"
  }
 },
 "nbformat": 4,
 "nbformat_minor": 4
}
