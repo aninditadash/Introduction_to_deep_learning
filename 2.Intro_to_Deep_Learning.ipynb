{
 "cells": [
  {
   "cell_type": "markdown",
   "id": "42b9f575-58fd-4e75-85cd-7d7ab61af79b",
   "metadata": {},
   "source": [
    "1. Import Libraries\n",
    "2. Load dataset\n",
    "3. EDA (Outlier, Null, Duplicates, Feature scaling, encoding, data balancing, remove unwanted features, Dimensionality Reduction, Ydata profiling)\n",
    "4. Design NN\n",
    "   sequential, input ( no of features,)\n",
    "   hidden layer (no of neuron, activation function, no of hidden layer)\n",
    "   output layer (no of neuron = target var, activation function)\n",
    "   regularization techniques (different techniques)\n",
    "   Compile model(loss function, optimizer, epochs, batch size, metrics)\n",
    "    fit ( train and test data)\n",
    "   save model\n",
    "   load model\n",
    "   prediction\n",
    "   evaluation of model\n",
    "   test the model on new data"
   ]
  },
  {
   "cell_type": "code",
   "execution_count": null,
   "id": "63451264-30f6-4e84-92fc-9fd636958ba8",
   "metadata": {},
   "outputs": [],
   "source": []
  }
 ],
 "metadata": {
  "kernelspec": {
   "display_name": "Python 3 (ipykernel)",
   "language": "python",
   "name": "python3"
  },
  "language_info": {
   "codemirror_mode": {
    "name": "ipython",
    "version": 3
   },
   "file_extension": ".py",
   "mimetype": "text/x-python",
   "name": "python",
   "nbconvert_exporter": "python",
   "pygments_lexer": "ipython3",
   "version": "3.12.7"
  }
 },
 "nbformat": 4,
 "nbformat_minor": 5
}
